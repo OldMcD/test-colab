{
  "nbformat": 4,
  "nbformat_minor": 0,
  "metadata": {
    "colab": {
      "provenance": [],
      "authorship_tag": "ABX9TyMpMBXLvrDZaejuFR4S0dmL",
      "include_colab_link": true
    },
    "kernelspec": {
      "name": "python3",
      "display_name": "Python 3"
    },
    "language_info": {
      "name": "python"
    }
  },
  "cells": [
    {
      "cell_type": "markdown",
      "metadata": {
        "id": "view-in-github",
        "colab_type": "text"
      },
      "source": [
        "<a href=\"https://colab.research.google.com/github/OldMcD/test-colab/blob/main/ColabTest.ipynb\" target=\"_parent\"><img src=\"https://colab.research.google.com/assets/colab-badge.svg\" alt=\"Open In Colab\"/></a>"
      ]
    },
    {
      "cell_type": "code",
      "execution_count": null,
      "metadata": {
        "colab": {
          "base_uri": "https://localhost:8080/"
        },
        "id": "PFrErTTkiQ9b",
        "outputId": "f7cda3f6-9215-47c5-b175-692073d93475"
      },
      "outputs": [
        {
          "output_type": "stream",
          "name": "stdout",
          "text": [
            "N: 5\n",
            "Hello World 1\n",
            "Hello World 2\n",
            "Hello World 3\n",
            "Hello World 4\n",
            "Hello World 5\n"
          ]
        }
      ],
      "source": [
        "a = 'Hello World'\n",
        "n = int(input('N: '))\n",
        "for i in range(n):\n",
        "    print(a, i+1)\n"
      ]
    },
    {
      "cell_type": "code",
      "source": [
        "import datetime\n",
        "\n",
        "datetime.date.today()"
      ],
      "metadata": {
        "id": "MusxB6irmnWg",
        "outputId": "1ca653cd-9b1a-4234-f7e2-02a4a5509cfd",
        "colab": {
          "base_uri": "https://localhost:8080/"
        }
      },
      "execution_count": 7,
      "outputs": [
        {
          "output_type": "execute_result",
          "data": {
            "text/plain": [
              "datetime.date(2022, 10, 29)"
            ]
          },
          "metadata": {},
          "execution_count": 7
        }
      ]
    },
    {
      "cell_type": "code",
      "source": [
        "import numpy as np\n",
        "\n",
        "np.__version__"
      ],
      "metadata": {
        "id": "GnHLeIidngWv",
        "outputId": "69978d73-95e4-48ee-d22a-9ce3b0a66235",
        "colab": {
          "base_uri": "https://localhost:8080/",
          "height": 35
        }
      },
      "execution_count": 8,
      "outputs": [
        {
          "output_type": "execute_result",
          "data": {
            "text/plain": [
              "'1.21.6'"
            ],
            "application/vnd.google.colaboratory.intrinsic+json": {
              "type": "string"
            }
          },
          "metadata": {},
          "execution_count": 8
        }
      ]
    },
    {
      "cell_type": "code",
      "source": [],
      "metadata": {
        "id": "Xdutw6SSoeMq"
      },
      "execution_count": 10,
      "outputs": []
    }
  ]
}